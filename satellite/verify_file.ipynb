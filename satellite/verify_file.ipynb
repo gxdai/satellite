{
 "cells": [
  {
   "cell_type": "code",
   "execution_count": 1,
   "metadata": {},
   "outputs": [
    {
     "name": "stdout",
     "output_type": "stream",
     "text": [
      "(38656, 66560, 3)\n"
     ]
    }
   ],
   "source": [
    "# verify image size\n",
    "import cv2\n",
    "\n",
    "original_image_path = \"/home/gxdai/ssd/002_007_TIF/001_client_region.tif\"\n",
    "original_image = cv2.imread(original_image_path)\n",
    "original_shape = original_image.shape\n",
    "print(original_shape)"
   ]
  },
  {
   "cell_type": "code",
   "execution_count": 2,
   "metadata": {},
   "outputs": [
    {
     "name": "stdout",
     "output_type": "stream",
     "text": [
      "(38656, 66560, 3)\n"
     ]
    }
   ],
   "source": [
    "effect_image_path = \"/home/gxdai/ssd/001/001_effect.png\"\n",
    "effect_image = cv2.imread(effect_image_path)\n",
    "effect_shape = effect_image.shape\n",
    "print(effect_shape)"
   ]
  },
  {
   "cell_type": "code",
   "execution_count": 3,
   "metadata": {},
   "outputs": [
    {
     "name": "stdout",
     "output_type": "stream",
     "text": [
      "True\n"
     ]
    }
   ],
   "source": [
    "print(original_shape[:2] == effect_shape[:2])"
   ]
  },
  {
   "cell_type": "code",
   "execution_count": 4,
   "metadata": {},
   "outputs": [
    {
     "name": "stdout",
     "output_type": "stream",
     "text": [
      "(10309, 11426, 3)\n"
     ]
    }
   ],
   "source": [
    "original_image_path = \"/home/gxdai/ssd/002_007_TIF/002_DG_Satellite_AZ_Airfield_20180818.tif\"\n",
    "original_image = cv2.imread(original_image_path)\n",
    "original_shape = original_image.shape\n",
    "print(original_shape)"
   ]
  },
  {
   "cell_type": "code",
   "execution_count": 5,
   "metadata": {},
   "outputs": [
    {
     "name": "stdout",
     "output_type": "stream",
     "text": [
      "(10309, 11426, 3)\n"
     ]
    }
   ],
   "source": [
    "effect_image_path = \"/home/gxdai/ssd/effect002-007/002/DG_Satellite_AZ_Airfield_20180818_effect.jpg\"\n",
    "effect_image = cv2.imread(effect_image_path)\n",
    "effect_shape = effect_image.shape\n",
    "print(effect_shape)"
   ]
  },
  {
   "cell_type": "code",
   "execution_count": 6,
   "metadata": {},
   "outputs": [
    {
     "name": "stdout",
     "output_type": "stream",
     "text": [
      "True\n"
     ]
    }
   ],
   "source": [
    "print(original_shape[:2] == effect_shape[:2])"
   ]
  },
  {
   "cell_type": "code",
   "execution_count": 7,
   "metadata": {},
   "outputs": [
    {
     "name": "stdout",
     "output_type": "stream",
     "text": [
      "(13940, 18095, 3)\n"
     ]
    }
   ],
   "source": [
    "original_image_path = \"/home/gxdai/ssd/002_007_TIF/003_DG_Satellite_DXB_20180612.tif\"\n",
    "original_image = cv2.imread(original_image_path)\n",
    "original_shape = original_image.shape\n",
    "print(original_shape)"
   ]
  },
  {
   "cell_type": "code",
   "execution_count": 8,
   "metadata": {},
   "outputs": [
    {
     "name": "stdout",
     "output_type": "stream",
     "text": [
      "(13940, 18095, 3)\n"
     ]
    }
   ],
   "source": [
    "effect_image_path = \"/home/gxdai/ssd/effect002-007/003/DG_Satellite_DXB_20180612_effect.jpg\"\n",
    "effect_image = cv2.imread(effect_image_path)\n",
    "effect_shape = effect_image.shape\n",
    "print(effect_shape)"
   ]
  },
  {
   "cell_type": "code",
   "execution_count": 9,
   "metadata": {},
   "outputs": [
    {
     "name": "stdout",
     "output_type": "stream",
     "text": [
      "True\n"
     ]
    }
   ],
   "source": [
    "print(original_shape[:2] == effect_shape[:2])"
   ]
  },
  {
   "cell_type": "code",
   "execution_count": 10,
   "metadata": {},
   "outputs": [
    {
     "name": "stdout",
     "output_type": "stream",
     "text": [
      "(12170, 12172, 3)\n"
     ]
    }
   ],
   "source": [
    "original_image_path = \"/home/gxdai/ssd/002_007_TIF/004_DG_Satellite_Fallmouth_Boats_20171006.tif\"\n",
    "original_image = cv2.imread(original_image_path)\n",
    "original_shape = original_image.shape\n",
    "print(original_shape)"
   ]
  },
  {
   "cell_type": "code",
   "execution_count": 11,
   "metadata": {},
   "outputs": [
    {
     "name": "stdout",
     "output_type": "stream",
     "text": [
      "(12170, 12172, 3)\n"
     ]
    }
   ],
   "source": [
    "effect_image_path = \"/home/gxdai/ssd/effect002-007/004/DG_Satellite_Fallmouth_Boats_20171006_effect.jpg\"\n",
    "effect_image = cv2.imread(effect_image_path)\n",
    "effect_shape = effect_image.shape\n",
    "print(effect_shape)"
   ]
  },
  {
   "cell_type": "code",
   "execution_count": 12,
   "metadata": {},
   "outputs": [
    {
     "name": "stdout",
     "output_type": "stream",
     "text": [
      "True\n"
     ]
    }
   ],
   "source": [
    "print(original_shape[:2] == effect_shape[:2])"
   ]
  },
  {
   "cell_type": "code",
   "execution_count": 13,
   "metadata": {},
   "outputs": [
    {
     "name": "stdout",
     "output_type": "stream",
     "text": [
      "(22051, 16724, 3)\n"
     ]
    }
   ],
   "source": [
    "original_image_path = \"/home/gxdai/ssd/002_007_TIF/005_DG_Satellite_Norfolk_East_20170601_A1.tif\"\n",
    "original_image = cv2.imread(original_image_path)\n",
    "original_shape = original_image.shape\n",
    "print(original_shape)"
   ]
  },
  {
   "cell_type": "code",
   "execution_count": 14,
   "metadata": {},
   "outputs": [
    {
     "name": "stdout",
     "output_type": "stream",
     "text": [
      "(22051, 16724, 3)\n"
     ]
    }
   ],
   "source": [
    "effect_image_path = \"/home/gxdai/ssd/effect002-007/005/DG_Satellite_Norfolk_East_20170601_A1_effect.jpg\"\n",
    "effect_image = cv2.imread(effect_image_path)\n",
    "effect_shape = effect_image.shape\n",
    "print(effect_shape)"
   ]
  },
  {
   "cell_type": "code",
   "execution_count": 15,
   "metadata": {},
   "outputs": [
    {
     "name": "stdout",
     "output_type": "stream",
     "text": [
      "True\n"
     ]
    }
   ],
   "source": [
    "print(original_shape[:2] == effect_shape[:2])"
   ]
  },
  {
   "cell_type": "code",
   "execution_count": 16,
   "metadata": {},
   "outputs": [
    {
     "name": "stdout",
     "output_type": "stream",
     "text": [
      "(15342, 25574, 3)\n"
     ]
    }
   ],
   "source": [
    "original_image_path = \"/home/gxdai/ssd/002_007_TIF/006_DG_Satellite_Davis_Monthan_AFB_20180814.tif\"\n",
    "original_image = cv2.imread(original_image_path)\n",
    "original_shape = original_image.shape\n",
    "print(original_shape)"
   ]
  },
  {
   "cell_type": "code",
   "execution_count": 17,
   "metadata": {},
   "outputs": [
    {
     "name": "stdout",
     "output_type": "stream",
     "text": [
      "(15342, 25574, 3)\n"
     ]
    }
   ],
   "source": [
    "effect_image_path = \"/home/gxdai/ssd/effect002-007/006/DG_Satellite_Davis_Monthan_AFB_20180814_effect.jpg\"\n",
    "effect_image = cv2.imread(effect_image_path)\n",
    "effect_shape = effect_image.shape\n",
    "print(effect_shape)"
   ]
  },
  {
   "cell_type": "code",
   "execution_count": 18,
   "metadata": {},
   "outputs": [
    {
     "name": "stdout",
     "output_type": "stream",
     "text": [
      "True\n"
     ]
    }
   ],
   "source": [
    "print(original_shape[:2] == effect_shape[:2])"
   ]
  },
  {
   "cell_type": "code",
   "execution_count": 19,
   "metadata": {},
   "outputs": [
    {
     "name": "stdout",
     "output_type": "stream",
     "text": [
      "(9835, 11050, 3)\n"
     ]
    }
   ],
   "source": [
    "original_image_path = \"/home/gxdai/ssd/002_007_TIF/007_DG_Satellite_NM_Airfield_20171121.tif\"\n",
    "original_image = cv2.imread(original_image_path)\n",
    "original_shape = original_image.shape\n",
    "print(original_shape)"
   ]
  },
  {
   "cell_type": "code",
   "execution_count": 20,
   "metadata": {},
   "outputs": [
    {
     "name": "stdout",
     "output_type": "stream",
     "text": [
      "(9835, 11050, 3)\n"
     ]
    }
   ],
   "source": [
    "effect_image_path = \"/home/gxdai/ssd/effect002-007/007/DG_Satellite_NM_Airfield_20171121_effect.jpg\"\n",
    "effect_image = cv2.imread(effect_image_path)\n",
    "effect_shape = effect_image.shape\n",
    "print(effect_shape)"
   ]
  },
  {
   "cell_type": "code",
   "execution_count": 21,
   "metadata": {},
   "outputs": [
    {
     "name": "stdout",
     "output_type": "stream",
     "text": [
      "True\n"
     ]
    }
   ],
   "source": [
    "print(original_shape[:2] == effect_shape[:2])"
   ]
  },
  {
   "cell_type": "code",
   "execution_count": null,
   "metadata": {},
   "outputs": [],
   "source": []
  }
 ],
 "metadata": {
  "kernelspec": {
   "display_name": "Python 3",
   "language": "python",
   "name": "python3"
  },
  "language_info": {
   "codemirror_mode": {
    "name": "ipython",
    "version": 3
   },
   "file_extension": ".py",
   "mimetype": "text/x-python",
   "name": "python",
   "nbconvert_exporter": "python",
   "pygments_lexer": "ipython3",
   "version": "3.6.6"
  }
 },
 "nbformat": 4,
 "nbformat_minor": 2
}
